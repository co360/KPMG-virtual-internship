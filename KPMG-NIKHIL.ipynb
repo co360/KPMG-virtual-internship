{
 "cells": [
  {
   "cell_type": "code",
   "execution_count": 243,
   "metadata": {},
   "outputs": [],
   "source": [
    "import pandas as pd\n",
    "import numpy as np\n",
    "import datetime as dt\n",
    "from sklearn.preprocessing import Imputer\n",
    "pd.options.mode.chained_assignment = None"
   ]
  },
  {
   "cell_type": "markdown",
   "metadata": {},
   "source": [
    "# Data Cleaning\n",
    "missing: remove blanks\n",
    "data conversion"
   ]
  },
  {
   "cell_type": "code",
   "execution_count": 244,
   "metadata": {},
   "outputs": [],
   "source": [
    "def correctcol(data):\n",
    "    new_header = data.iloc[0] \n",
    "    data = data[1:] \n",
    "    data.columns = new_header\n",
    "    data = data.loc[:, data.columns.notnull()]\n",
    "    return data\n",
    "def filtercustid(data):\n",
    "    final = data.loc[data['customer_id'] <= 3500]\n",
    "    return final\n",
    "def cleantrans(data):\n",
    "    data = correctcol(data)\n",
    "    data = filtercustid(data)\n",
    "    data = data.loc[data['order_status'] != 'Cancelled']\n",
    "    data['profit'] = data['list_price'] - data['standard_cost']\n",
    "    data['online_order'].replace(np.nan, 'unknown',inplace=True)\n",
    "    data['brand'].replace('', np.nan, inplace=True)\n",
    "    data.dropna(subset=['brand'], inplace=True)\n",
    "    return data\n",
    "def cleancustadd(data):\n",
    "    data = correctcol(data)\n",
    "    data[\"state\"].replace({\"New South Wales\": \"NSW\", \"Victoria\": \"VIC\"}, inplace=True)\n",
    "    return data\n",
    "def cleancustdemo(data):\n",
    "    data = correctcol(data)\n",
    "    data = filtercustid(data)\n",
    "    a = data.loc[data['deceased_indicator'] != 'Y']\n",
    "    a.replace({\"Male\": \"M\", \"Female\": \"F\", \"Femal\":\"F\"}, inplace=True)\n",
    "    a['DOB'] = pd.to_datetime(a['DOB'], errors='coerce')\n",
    "    a['age']= (now.year - a['DOB'].dt.year) - ((now.month - a['DOB'].dt.month) < 0)\n",
    "    a['job_title'].replace(np.nan, 'unknown',inplace=True)\n",
    "    a['job_industry_category'].replace(np.nan, 'unknown',inplace=True)\n",
    "    a['tenure'].replace('', np.nan, inplace=True)\n",
    "    a.dropna(subset=['tenure'], inplace=True)\n",
    "    del a['DOB']\n",
    "    del a['default']\n",
    "    return a"
   ]
  },
  {
   "cell_type": "code",
   "execution_count": 245,
   "metadata": {},
   "outputs": [],
   "source": [
    "trans = pd.read_excel('KPMG.xlsx','Transactions')\n",
    "custadd = pd.read_excel('KPMG.xlsx', 'CustomerAddress')\n",
    "custdemo= pd.read_excel('KPMG.xlsx', 'CustomerDemographic')"
   ]
  },
  {
   "cell_type": "code",
   "execution_count": 246,
   "metadata": {},
   "outputs": [],
   "source": [
    "custdemo = cleancustdemo(custdemo)\n",
    "custadd = cleancustadd(custadd)\n",
    "trans =  cleantrans(trans)\n"
   ]
  },
  {
   "cell_type": "code",
   "execution_count": 247,
   "metadata": {},
   "outputs": [],
   "source": [
    "from sklearn.compose import ColumnTransformer\n",
    "from sklearn.pipeline import Pipeline\n",
    "from sklearn.impute import SimpleImputer\n",
    "\n",
    "#make a lists, indicating which features\n",
    "# will be imputed with each method\n",
    "\n",
    "features_numeric = ['age']\n",
    "\n",
    "# then instantiate the imputers, within a pipeline\n",
    "# we create one imputer for numerical and one imputer\n",
    "# for categorical\n",
    "\n",
    "# this imputer imputes with the mean\n",
    "imputer_numeric = Pipeline(steps=[\n",
    "    ('imputer', SimpleImputer(strategy='median')),\n",
    "])\n",
    "\n",
    "\n",
    "\n",
    "# then put the features list and the transformers together\n",
    "# using the column transformer\n",
    "\n",
    "preprocessor = ColumnTransformer(transformers=[('imputer_numeric',\n",
    "                                                imputer_numeric,\n",
    "                                                features_numeric)])\n",
    "\n",
    "# now fit the preprocessor\n",
    "preprocessor.fit(custdemo[['age']])\n",
    "\n",
    "# and now can impute the data\n",
    "# remember it returs a numpy array\n",
    "\n",
    "custdemo['age'] = preprocessor.transform(custdemo[['age']]).ravel()\n",
    "# X_test = preprocessor.transform(X_test)"
   ]
  },
  {
   "cell_type": "markdown",
   "metadata": {},
   "source": [
    "#  Data Exploration"
   ]
  },
  {
   "cell_type": "markdown",
   "metadata": {},
   "source": [
    "Transaction "
   ]
  },
  {
   "cell_type": "code",
   "execution_count": null,
   "metadata": {},
   "outputs": [],
   "source": []
  }
 ],
 "metadata": {
  "kernelspec": {
   "display_name": "Python 3",
   "language": "python",
   "name": "python3"
  },
  "language_info": {
   "codemirror_mode": {
    "name": "ipython",
    "version": 3
   },
   "file_extension": ".py",
   "mimetype": "text/x-python",
   "name": "python",
   "nbconvert_exporter": "python",
   "pygments_lexer": "ipython3",
   "version": "3.7.4"
  }
 },
 "nbformat": 4,
 "nbformat_minor": 2
}
